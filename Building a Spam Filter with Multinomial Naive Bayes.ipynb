{
 "cells": [
  {
   "cell_type": "markdown",
   "metadata": {},
   "source": [
    "# Building a Spam Filter with Multinomial Naive Bayes\n",
    "\n",
    "The purpose of this project is to build a spam filter for SMS messages using the multinomial Naive Bayes algorithm. The goal is to write a program that classifies new messages with an accuracy greater than 80% — so we expect that more than 80% of the new messages will be classified correctly as spam or ham (non-spam).\n",
    "\n",
    "To train the algorithm, we'll use a dataset of 5,572 SMS messages that are already classified by humans. The dataset was put together by Tiago A. Almeida and José María Gómez Hidalgo, and it can be downloaded from the [The UCI Machine Learning Repository](https://archive.ics.uci.edu/ml/datasets/sms+spam+collection). The data collection process is described in more details on [this page](http://www.dt.fee.unicamp.br/~tiago/smsspamcollection/#composition), where you can also find some of the papers authored by Tiago A. Almeida and José María Gómez Hidalgo."
   ]
  },
  {
   "cell_type": "markdown",
   "metadata": {},
   "source": [
    "# Exploring the Dataset\n",
    "\n",
    "The first step is to explore the data, starting with reading in the dataset"
   ]
  },
  {
   "cell_type": "code",
   "execution_count": null,
   "metadata": {},
   "outputs": [],
   "source": [
    "import pandas as pd\n",
    "import numpy as np\n",
    "import matplotlib.pyplot as plt\n",
    "import re\n",
    "import operator\n",
    "from wordcloud import WordCloud, STOPWORDS"
   ]
  },
  {
   "cell_type": "code",
   "execution_count": null,
   "metadata": {},
   "outputs": [],
   "source": [
    "sms = pd.read_csv('SMSSpamCollection', sep='\\t', header=None, names=['Label', 'SMS'])\n",
    "\n",
    "\n",
    "print(f'Number of SMS messages: {sms.shape[0]:,}')\n",
    "print(f'Number of missing values in the dataframe: {sms.isnull().sum().sum()}\\n')\n",
    "\n",
    "def pretty_print_table(df, substring):\n",
    "    '''Pretty-prints a table of the result of `value_counts` method (in % and\n",
    "    rounded) on the `Label` column of an input dataframe. Prints the title of\n",
    "    the table with an input substring incorporated.\n",
    "    '''\n",
    "    print(f'Spam vs. ham {substring}, %')\n",
    "    spam_ham_pct = round(df['Label'].value_counts(normalize=True)*100, 0)\n",
    "    print(spam_ham_pct.to_markdown(tablefmt='pretty', headers=['Label', '%']))\n",
    "\n",
    "# Pretty-printing % of spam and ham messages\n",
    "pretty_print_table(df=sms, substring='(non-spam)')\n",
    "\n",
    "# Plotting % of spam and ham messages\n",
    "spam_pct = round(sms['Label'].value_counts(normalize=True)*100, 0)\n",
    "fig, ax = plt.subplots(figsize=(8,2))\n",
    "spam_pct.plot.barh(color='slateblue')\n",
    "ax.set_title('Spam vs. ham, %', fontsize=25)\n",
    "ax.set_xlabel(None)\n",
    "ax.tick_params(axis='both', labelsize=16, left=False)\n",
    "for side in ['top', 'right', 'left']:\n",
    "    ax.spines[side].set_visible(False)\n",
    "plt.show()\n",
    "\n",
    "sms.head()"
   ]
  },
  {
   "cell_type": "markdown",
   "metadata": {},
   "source": [
    "A plenary glance at the data identifies that about 87% of the messages are ham, while the remaining 13% is spam.  At a high-level, this tracks with experience, since most messages that people receive are, in fact, ham."
   ]
  },
  {
   "cell_type": "markdown",
   "metadata": {},
   "source": [
    "## Training and Test Set\n",
    "\n",
    "Splitting the dataset into a training and a test set is next in the process, where the training set accounts for 80% of the data, and the test set for the remaining 20%."
   ]
  },
  {
   "cell_type": "code",
   "execution_count": null,
   "metadata": {},
   "outputs": [],
   "source": [
    "sms_randomized = sms.sample(frac=1, random_state=1)\n",
    "\n",
    "# Creating a training set (80%) and a test set (20%)\n",
    "training_set = sms_randomized[:4458].reset_index(drop=True)\n",
    "test_set = sms_randomized[4458:].reset_index(drop=True)\n",
    "\n",
    "# Finding the % of spam and ham in both sets\n",
    "pretty_print_table(df=training_set, substring='in the training set')\n",
    "print('\\n')\n",
    "pretty_print_table(df=test_set, substring='in the test set')"
   ]
  },
  {
   "cell_type": "markdown",
   "metadata": {},
   "source": [
    "The datasets track with the expected results."
   ]
  },
  {
   "cell_type": "markdown",
   "metadata": {},
   "source": [
    "# Data Cleaning\n",
    "\n",
    "This next step requires the calculation of all probabilities the algorithm will need.  In order to do so, however, it is wise to clean the data appropriately.\n",
    "\n",
    "The main goal is to have a count of each unique word in the SMS."
   ]
  },
  {
   "cell_type": "markdown",
   "metadata": {},
   "source": [
    "## Letter Case and Punctuation\n",
    "\n",
    "First up is clearing both punctuation and ensuring all letters are lower-case."
   ]
  },
  {
   "cell_type": "code",
   "execution_count": null,
   "metadata": {},
   "outputs": [],
   "source": [
    "# Before cleaning\n",
    "training_set.head()"
   ]
  },
  {
   "cell_type": "code",
   "execution_count": null,
   "metadata": {},
   "outputs": [],
   "source": [
    "# Removing punctuation and making all the words lower case\n",
    "training_set['SMS'] = training_set['SMS'].str.replace('\\W', ' ').str.lower()\n",
    "training_set.head()"
   ]
  },
  {
   "cell_type": "markdown",
   "metadata": {},
   "source": [
    "## Creating the Vocabulary\n",
    "\n",
    "Next up is creating the lexicon, the list of unique words in our training set."
   ]
  },
  {
   "cell_type": "code",
   "execution_count": null,
   "metadata": {},
   "outputs": [],
   "source": [
    "training_set['SMS'] = training_set['SMS'].str.split()\n",
    "training_set.head(3)"
   ]
  },
  {
   "cell_type": "code",
   "execution_count": null,
   "metadata": {},
   "outputs": [],
   "source": [
    "vocabulary = []\n",
    "for sms in training_set['SMS']:\n",
    "    for word in sms:\n",
    "        vocabulary.append(word)\n",
    "vocabulary = list(set(vocabulary))\n",
    "print(f'Number of unique words in the vocabulary of the training set: {len(vocabulary):,}')"
   ]
  },
  {
   "cell_type": "markdown",
   "metadata": {},
   "source": [
    "### The Final Training Set\n",
    "\n",
    "This final step includes using the vocabulary from above to make the final data transformation."
   ]
  },
  {
   "cell_type": "code",
   "execution_count": null,
   "metadata": {},
   "outputs": [],
   "source": [
    "# Creating a dictionary where each key is a unique word from the vocabulary,\n",
    "# and each value is a list of the frequencies of that word in each message\n",
    "word_counts_per_sms = {unique_word: [0] * len(training_set['SMS']) for unique_word in vocabulary}\n",
    "for index, sms in enumerate(training_set['SMS']):\n",
    "    for word in sms:\n",
    "        word_counts_per_sms[word][index]+=1\n",
    "        \n",
    "word_counts = pd.DataFrame(word_counts_per_sms)\n",
    "word_counts.head(3)"
   ]
  },
  {
   "cell_type": "code",
   "execution_count": null,
   "metadata": {},
   "outputs": [],
   "source": [
    "training_set_final = pd.concat([training_set, word_counts], axis=1)\n",
    "training_set_final.head(3)"
   ]
  },
  {
   "cell_type": "markdown",
   "metadata": {},
   "source": [
    "## The Most Frequent Words in Spam Messages\n",
    "\n",
    "Having a count of the most frequently used words in the spam messages will provide some solid insight for testing the filter."
   ]
  },
  {
   "cell_type": "code",
   "execution_count": null,
   "metadata": {},
   "outputs": [],
   "source": [
    "spam_sms = training_set_final[training_set_final['Label']=='spam']\n",
    "ham_sms = training_set_final[training_set_final['Label']=='ham']"
   ]
  },
  {
   "cell_type": "code",
   "execution_count": null,
   "metadata": {},
   "outputs": [],
   "source": [
    "# Creating a dictionary of words from all spam messages with their frequencies\n",
    "spam_dict = {}\n",
    "for sms in spam_sms['SMS']:\n",
    "    for word in sms:\n",
    "        if word not in spam_dict:\n",
    "            spam_dict[word]=0\n",
    "        spam_dict[word]+=1"
   ]
  },
  {
   "cell_type": "code",
   "execution_count": null,
   "metadata": {},
   "outputs": [],
   "source": [
    "# Sorting the dictionary in descending order of word frequencies \n",
    "sorted_spam_dict = dict(sorted(spam_dict.items(), key=operator.itemgetter(1), reverse=True))"
   ]
  },
  {
   "cell_type": "code",
   "execution_count": null,
   "metadata": {},
   "outputs": [],
   "source": [
    "selected = ['call', 'free', 'stop', 'mobile', 'text', 'claim', 'www', \n",
    "            'prize', 'send', 'cash', 'nokia', 'win', 'urgent', 'service',\n",
    "            'contact', 'com', 'msg', 'chat', 'guaranteed', 'customer', \n",
    "            'awarded', 'sms', 'ringtone', 'video', 'rate', 'latest', \n",
    "            'award', 'code', 'camera', 'chance', 'apply', 'valid', 'selected',\n",
    "            'offer', 'tones', 'collection', 'mob', 'network', 'attempt', \n",
    "            'bonus', 'delivery', 'weekly', 'club', 'http', 'help', 'dating',\n",
    "            'vouchers', 'poly', 'auction', 'ltd', 'pounds', 'special',\n",
    "            'services', 'games', 'await', 'double', 'unsubscribe', 'hot',\n",
    "            'price', 'sexy', 'camcorder', 'content', 'top', 'calls', \n",
    "            'account', 'private', 'winner', 'savamob', 'offers', 'pobox',\n",
    "            'gift', 'net', 'quiz', 'expires', 'freemsg', 'play', 'ipod',\n",
    "            'last', 'order', 'anytime', 'congratulations', 'caller', 'points',\n",
    "            'identifier', 'voucher', 'statement', 'operator', 'real', \n",
    "            'mobiles', 'important', 'join', 'rental', 'valued', 'congrats',\n",
    "            'final', 'enjoy', 'unlimited', 'tv', 'charged', 'sex']\n",
    "\n",
    "# Extracting only the 100 most frequent spam words with their frequencies\n",
    "filtered_sorted_spam_dict = {}\n",
    "for word in selected:\n",
    "    if word in sorted_spam_dict:\n",
    "        filtered_sorted_spam_dict[word]=sorted_spam_dict[word] \n",
    "        \n",
    "print(f'The number of the most popular spam words selected: {len(filtered_sorted_spam_dict)}')"
   ]
  },
  {
   "cell_type": "code",
   "execution_count": null,
   "metadata": {},
   "outputs": [],
   "source": [
    "# Creating a word cloud\n",
    "fig = plt.subplots(figsize=(12,10)) \n",
    "wordcloud = WordCloud(width=1000, height=700,\n",
    "                      background_color='white', \n",
    "                      random_state=1).generate_from_frequencies(filtered_sorted_spam_dict)\n",
    "plt.title('The most frequent words in spam messages\\n', fontsize=29)\n",
    "plt.imshow(wordcloud)\n",
    "plt.axis('off')\n",
    "plt.show()"
   ]
  },
  {
   "cell_type": "markdown",
   "metadata": {},
   "source": [
    "## Calculating Constants\n",
    "\n",
    "Now, it's time to start creating the spam filter.\n",
    "\n",
    "When a new message comes in, the Naive Bayes algorithm will make the classification based on the probabilities it gets to these two equations:\n",
    "\n",
    "![alt text](formula1.png \"Classification Formulae A\")\n",
    "\n",
    "to calculate <i>P(wi|Spam)</i> and <i>P(wi|Ham)</i> inside the formulas above:\n",
    "\n",
    "![alt text](formula2.png \"Classification Formulae B\")\n",
    "\n",
    "\n",
    "where:\n",
    "\n",
    "\n",
    "* <i>N<sub>wi|Spam</sub></i> — the number of times the word wi occurs in spam messages,\n",
    "* <i>N<sub>wi|Ham</sub></i> — the number of times the word wi occurs in ham messages,\n",
    "* <i>N<sub>Spam</sub></i> — total number of words in spam messages,\n",
    "* <i>N<sub>Ham</sub></i> — total number of words in ham messages,\n",
    "* <i>N<sub>Vocabulary</sub></i> — total number of unique words in the vocabulary,\n",
    "* <i>α</i> — a smoothing parameter.\n",
    "\n",
    "Of course some of these will have the same value for every new message: <i>P(Spam)</i>, <i>P(Ham)</i>, <i>N<sub>Spam</sub></i>, <i>N<sub>Ham</sub></i>, <i>N<sub>Vocabulary</sub></i>.  We can use Laplace smoothing and set our <i>α</i> value to 1.\n",
    "\n",
    "Now to calculate the constants:"
   ]
  },
  {
   "cell_type": "code",
   "execution_count": null,
   "metadata": {},
   "outputs": [],
   "source": [
    "p_spam = training_set_final['Label'].value_counts()['spam']/len(training_set_final)\n",
    "p_ham = training_set_final['Label'].value_counts()['ham']/len(training_set_final)\n",
    "\n",
    "n_spam = 0\n",
    "n_ham = 0\n",
    "for i in range(len(training_set_final)):\n",
    "    row = list(training_set_final.iloc[i].values)\n",
    "    for j in range(2,len(row)):\n",
    "        if row[0]=='spam':\n",
    "            n_spam+=row[j]\n",
    "        else:\n",
    "            n_ham+=row[j]\n",
    "            \n",
    "n_vocabulary = len(vocabulary)\n",
    "alpha = 1\n",
    "\n",
    "print(f'p_spam: {p_spam:.2f}\\n'\n",
    "      f'p_ham: {p_ham:.2f}\\n'\n",
    "      f'n_spam: {n_spam:,}\\n'\n",
    "      f'n_ham: {n_ham:,}\\n'\n",
    "      f'n_vocabulary: {n_vocabulary:,}\\n'\n",
    "      f'alpha: {alpha}')"
   ]
  },
  {
   "cell_type": "markdown",
   "metadata": {},
   "source": [
    "## Calculating Parameters\n",
    "\n",
    "The parameters <i>P(wi|Spam)</i> and <i>P(wi|Ham)</i> will vary depending on the individual words. However, both probabilities for each individual word remain constant for every new message, since they only depend on the training set. This means that we can use our training set to calculate both probabilities for each word in our vocabulary beforehand, which makes the Naive Bayes algorithm very fast compared to other algorithms. When a new message comes in, most of the needed computations are already done, which enables the algorithm to almost instantly classify the new message.\n",
    "\n",
    "There are 7,783 words in our vocabulary, hence we'll need to calculate a total of 15,566 probabilities <i>(P(wi|Spam)</i> and <i>P(wi|Ham)</i> for each word) using the following equations:\n",
    "\n",
    "![alt text](formula3.png \"Parameter Calculation\")"
   ]
  },
  {
   "cell_type": "code",
   "execution_count": null,
   "metadata": {},
   "outputs": [],
   "source": [
    "p_wi_spam = {}\n",
    "p_wi_ham = {}\n",
    "\n",
    "for word in vocabulary:\n",
    "    p_wi_spam[word] = (spam_sms[word].sum()+alpha)/(n_spam+alpha*n_vocabulary)\n",
    "    p_wi_ham[word] = (ham_sms[word].sum()+alpha)/(n_ham+alpha*n_vocabulary)"
   ]
  },
  {
   "cell_type": "markdown",
   "metadata": {},
   "source": [
    "## Classifying a New Message\n",
    "\n",
    "With the constants and parameters calculated, these can be converted into a spam filter.  The definition for this product is two-fold:\n",
    "\n",
    "* Ingests a new message as input\n",
    "* Calculates <i>P(Spam|message)</i> and <i>P(Ham|message)</i> using the following formulas:\n",
    "\n",
    "![alt text](formula4.png)\n",
    "\n",
    "* Compares both values and:\n",
    "    * if <i>P(Ham|message)</i> > <i>P(Spam|message)</i>, then the message is classified as ham,\n",
    "    * if <i>P(Ham|message)</i> < <i>P(Spam|message)</i>, then the message is classified as spam,\n",
    "    * if <i>P(Ham|message)</i> = <i>P(Spam|message)</i>, then the algorithm may request human help.\n",
    "\n",
    "If a new message contains some words that are not in the vocabulary, these words will be ignored for the purposes of calculating probabilities.\n",
    "\n",
    "And we can test the function with obviously spam or ham messages:"
   ]
  },
  {
   "cell_type": "code",
   "execution_count": null,
   "metadata": {},
   "outputs": [],
   "source": [
    "def classify_test_set(message):\n",
    "    '''Takes in a message as a string, removes punctuation, and makes all the\n",
    "    words lower case, calculates P(Spam|message) and P(Ham|message) based on\n",
    "    the constants and parameters calculated earlier in the project, compares\n",
    "    the two values and classifies the message as spam or ham, or requires \n",
    "    human classification. \n",
    "    '''\n",
    "    message = re.sub('\\W', ' ', message)\n",
    "    message = message.lower()\n",
    "    message = message.split()\n",
    "    p_spam_given_message = p_spam\n",
    "    p_ham_given_message = p_ham\n",
    "    for word in message:\n",
    "        if word in p_wi_spam:\n",
    "            p_spam_given_message*=p_wi_spam[word]\n",
    "        if word in p_wi_ham:\n",
    "            p_ham_given_message*=p_wi_ham[word]\n",
    "    if p_ham_given_message > p_spam_given_message:\n",
    "        return 'ham'\n",
    "    elif p_spam_given_message > p_ham_given_message:\n",
    "        return 'spam'\n",
    "    else:\n",
    "        return 'needs human classification'\n",
    "\n",
    "# Testing the function\n",
    "print(classify_test_set('Do you want to win an amazing super-prize today?'))\n",
    "print(classify_test_set('Ian, you look super-amazing today!'))"
   ]
  },
  {
   "cell_type": "markdown",
   "metadata": {},
   "source": [
    "The algorithm has distinguished the meaning successfully."
   ]
  },
  {
   "cell_type": "markdown",
   "metadata": {},
   "source": [
    "## Measuring the Spam Filter's Accuracy\n",
    "\n",
    "From the previous work, we have a test set of messages.  The algorithm will treat each message as new since it was not in the training data set.  The output will be a classification label which we can use to compare to the human-assigned label."
   ]
  },
  {
   "cell_type": "code",
   "execution_count": null,
   "metadata": {},
   "outputs": [],
   "source": [
    "test_set['Predicted'] = test_set['SMS'].apply(classify_test_set)\n",
    "test_set.head()"
   ]
  },
  {
   "cell_type": "markdown",
   "metadata": {},
   "source": [
    "And we can compare the accuracy of predicted vs. actual labels:"
   ]
  },
  {
   "cell_type": "code",
   "execution_count": null,
   "metadata": {},
   "outputs": [],
   "source": [
    "# Calculating the accuracy of the spam filter\n",
    "correct = 0\n",
    "total = len(test_set)        # number of sms in the test set\n",
    "for row in test_set.iterrows():\n",
    "    if row[1]['Predicted']==row[1]['Label']:\n",
    "        correct+=1\n",
    "accuracy = correct/total*100\n",
    "print(f'The accuracy of the spam filter: {accuracy:.2f}%')"
   ]
  },
  {
   "cell_type": "markdown",
   "metadata": {},
   "source": [
    "According to the result, our assumption of 80% has been surpassed."
   ]
  },
  {
   "cell_type": "markdown",
   "metadata": {},
   "source": [
    "## Incorrectly-Classified Messages\n",
    "\n",
    "We can see that there were some messages that were classified incorrectly.  Some manual review will help understand what went wrong."
   ]
  },
  {
   "cell_type": "code",
   "execution_count": null,
   "metadata": {},
   "outputs": [],
   "source": [
    "false_spam = test_set[(test_set['Predicted']=='spam')&(test_set['Label']=='ham')].reset_index(drop=True)\n",
    "false_ham = test_set[(test_set['Predicted']=='ham')&(test_set['Label']=='spam')].reset_index(drop=True)\n",
    "unclear = test_set[test_set['Predicted']=='needs human classification'].reset_index(drop=True)\n",
    "\n",
    "print('Total number of wrongly classified messages: ', len(false_spam)+len(false_ham)+len(unclear))\n",
    "print('_________________________________________________________________________\\n')\n",
    "print('FALSE SPAM MESSAGES:')\n",
    "for row in false_spam.iterrows():\n",
    "    print(f'{row[0]+1}. ', row[1]['SMS'])\n",
    "print('_________________________________________________________________________\\n')\n",
    "print('FALSE HAM MESSAGES:')\n",
    "for row in false_ham.iterrows():\n",
    "    print(f'{row[0]+1}. ', row[1]['SMS'])\n",
    "print('_________________________________________________________________________\\n')\n",
    "print('UNCLEAR MESSAGES:')\n",
    "for row in unclear.iterrows():\n",
    "    print(f'{row[0]+1}. ', row[1]['SMS'])\n",
    "print('_________________________________________________________________________')"
   ]
  },
  {
   "cell_type": "markdown",
   "metadata": {},
   "source": [
    "* In very rare occasions, ham messages can be incorrectly detected as spam when they are very short (considering also that some of the words from a new message can be absent in the vocabulary) and, at the same time, contain suspicious ad-style words, like unlimited, phone, calls, messages, contact, sent, that were previously found mostly in spam messages and that we observed, indeed, earlier on the word cloud. In addition, false spam messages, being very short, can contain seemingly neutral words (like July) but which were found in the training set only 1-2 times and, by coincidence, in spam messages.\n",
    "* Spam messages incorrectly detected as ham tend to be rather long and have a high percentage of \"normal\" words, which allows them to override the system. They usually contain contact details, websites, mentioning sums of money, words like asap, or they just can, in case of being short, consist of the words absent in the vocabulary.\n",
    "* The message that was not identified at all (and originally it was a ham message) is quite long and characterized by heavy usage of slang and abbreviations most probably absent in the vocabulary. As for the other words, the majority of them look neutral and could have been detected both in spam and ham messages. There are, though, some potentially suspicious words (saved, boost, secret, energy, instantly) that increased the probability of spam for this message up to being equal to that of ham."
   ]
  },
  {
   "cell_type": "markdown",
   "metadata": {},
   "source": [
    "# Making the Algorithm Case-Sensitive\n",
    "\n"
   ]
  },
  {
   "cell_type": "code",
   "execution_count": null,
   "metadata": {},
   "outputs": [],
   "source": [
    "training_set_exp = sms_randomized[:4458].reset_index(drop=True)\n",
    "test_set_exp = sms_randomized[4458:].reset_index(drop=True)\n",
    "training_set_exp['SMS'] = training_set_exp['SMS'].str.replace('\\W', ' ')\n",
    "\n",
    "vocabulary_exp = []\n",
    "for sms in training_set_exp['SMS']:\n",
    "    for word in sms:\n",
    "        vocabulary_exp.append(word)\n",
    "vocabulary_exp = list(set(vocabulary_exp))\n",
    "\n",
    "word_counts_per_sms_exp = {unique_word: [0] * len(training_set_exp['SMS']) for unique_word in vocabulary_exp}\n",
    "for index, sms in enumerate(training_set_exp['SMS']):\n",
    "    for word in sms:\n",
    "        word_counts_per_sms_exp[word][index]+=1\n",
    "        \n",
    "word_counts_exp = pd.DataFrame(word_counts_per_sms_exp)\n",
    "\n",
    "training_set_final_exp = pd.concat([training_set_exp, word_counts_exp], axis=1)\n",
    "    \n",
    "spam_sms_exp = training_set_final_exp[training_set_final_exp['Label']=='spam']\n",
    "ham_sms_exp = training_set_final_exp[training_set_final_exp['Label']=='ham']\n",
    "\n",
    "p_spam_exp = training_set_final_exp['Label'].value_counts()['spam']/len(training_set_final_exp)\n",
    "p_ham_exp = training_set_final_exp['Label'].value_counts()['ham']/len(training_set_final_exp)\n",
    "\n",
    "n_spam_exp = 0\n",
    "n_ham_exp = 0\n",
    "for i in range(len(training_set_final_exp)):\n",
    "    row = list(training_set_final_exp.iloc[i].values)\n",
    "    for j in range(2,len(row)):\n",
    "        if row[0]=='spam':\n",
    "            n_spam_exp+=row[j]\n",
    "        else:\n",
    "            n_ham_exp+=row[j]\n",
    "            \n",
    "n_vocabulary_exp = len(vocabulary_exp)\n",
    "alpha = 1\n",
    "\n",
    "p_wi_spam_exp = {}\n",
    "p_wi_ham_exp = {}\n",
    "for word in vocabulary_exp:\n",
    "    p_wi_spam_exp[word] = (spam_sms_exp[word].sum()+alpha)/(n_spam_exp+alpha*n_vocabulary_exp)\n",
    "    p_wi_ham_exp[word] = (ham_sms_exp[word].sum()+alpha)/(n_ham_exp+alpha*n_vocabulary_exp)\n",
    "    \n",
    "def classify_test_set_exp(message):\n",
    "    message = re.sub('\\W', ' ', message)\n",
    "    message = message.split()\n",
    "    p_spam_given_message_exp = p_spam_exp\n",
    "    p_ham_given_message_exp = p_ham_exp\n",
    "    for word in message:\n",
    "        if word in p_wi_spam_exp:\n",
    "            p_spam_given_message_exp*=p_wi_spam_exp[word]\n",
    "        if word in p_wi_ham_exp:\n",
    "            p_ham_given_message_exp*=p_wi_ham_exp[word]\n",
    "    if p_ham_given_message_exp > p_spam_given_message_exp:\n",
    "        return 'ham'\n",
    "    elif p_spam_given_message_exp > p_ham_given_message_exp:\n",
    "        return 'spam'\n",
    "    else:\n",
    "        return 'needs human classification'\n",
    "    \n",
    "test_set_exp['Predicted'] = test_set_exp['SMS'].apply(classify_test_set_exp)\n",
    "\n",
    "correct_exp = 0\n",
    "total_exp = len(test_set_exp)\n",
    "\n",
    "for row in test_set_exp.iterrows():\n",
    "    if row[1]['Predicted']==row[1]['Label']:\n",
    "        correct_exp+=1\n",
    "accuracy_exp = correct_exp/total_exp*100\n",
    "print(f'The accuracy of the spam filter: {accuracy_exp:.2f}%')"
   ]
  },
  {
   "cell_type": "markdown",
   "metadata": {},
   "source": [
    "We see that the experiment on making the filtering system more complex by introducing letter case sensitivity ended up rendering our spam filter much less efficient in labeling a new message (the accuracy has dropped by 13.5%), even though it's still more efficient than 80% of accuracy that we aimed at the beginning. It seems that the letter case doesn't really make any valuable difference when it comes to distinguishing between spam and ham messages. Hence, for further classifying new messages, we can approve the previous spam filter with 98.74% of accuracy."
   ]
  },
  {
   "cell_type": "markdown",
   "metadata": {},
   "source": [
    "## Conclusion\n",
    "\n",
    "In this project, we created a highly accurate spam filter based on the multinomial Naive Bayes algorithm and a dataset of labeled 5,572 SMS. The spam filter takes in a new message and classifies it as spam or ham. We managed to reach an accuracy of 98.74%, which is almost 20% higher than our initial focus. Below are some additional conclusions and insights from this project:\n",
    "\n",
    "* A few messages classified incorrectly have some features in common. False spam messages tend to be very short, have the words absent in the vocabulary, contain typical spam-like words, or neutral words previously detected, by coincidence, only in spam messages. False ham messages tend to be rather long and have a high percentage of neutral words or the words absent in the vocabulary. In the undefined messages, we can expect an approximately proportional mixture of neutral and spam-like words.\n",
    "* The attempt to increase the accuracy even further by making the algorithm sensitive to letter case resulted, just the opposite, in rendering the spam filter much less efficient, with the accuracy dropped by 13.5%. It seems that the letter case doesn't make any valuable difference when it comes to distinguishing between spam and ham messages.\n",
    "* The 100 most popular meaningful spam-prone words revealed the following patterns: encouraging people to do further actions, promising them something alluring, urging them, having sexual context, inviting to visit some web resources, advertising various digital devices and products."
   ]
  }
 ],
 "metadata": {
  "kernelspec": {
   "display_name": "Python 3",
   "language": "python",
   "name": "python3"
  },
  "language_info": {
   "codemirror_mode": {
    "name": "ipython",
    "version": 3
   },
   "file_extension": ".py",
   "mimetype": "text/x-python",
   "name": "python",
   "nbconvert_exporter": "python",
   "pygments_lexer": "ipython3",
   "version": "3.8.5"
  }
 },
 "nbformat": 4,
 "nbformat_minor": 4
}
